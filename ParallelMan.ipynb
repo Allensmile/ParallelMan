{
 "cells": [
  {
   "cell_type": "code",
   "execution_count": 1,
   "metadata": {},
   "outputs": [
    {
     "name": "stdout",
     "output_type": "stream",
     "text": [
      "children.yml Training: [####################] 100%\n",
      "conversations.yml Training: [####################] 100%\n",
      "greetings.yml Training: [####################] 100%\n",
      "trivia.yml Training: [####################] 100%\n",
      "ai.yml Training: [####################] 100%\n",
      "botprofile.yml Training: [####################] 100%\n",
      "computers.yml Training: [####################] 100%\n",
      "conversations.yml Training: [####################] 100%\n",
      "drugs.yml Training: [####################] 100%\n",
      "emotion.yml Training: [####################] 100%\n",
      "food.yml Training: [####################] 100%\n",
      "gossip.yml Training: [####################] 100%\n",
      "greetings.yml Training: [####################] 100%\n",
      "history.yml Training: [####################] 100%\n",
      "humor.yml Training: [####################] 100%\n",
      "literature.yml Training: [####################] 100%\n",
      "money.yml Training: [####################] 100%\n",
      "movies.yml Training: [####################] 100%\n",
      "politics.yml Training: [####################] 100%\n",
      "psychology.yml Training: [####################] 100%\n",
      "science.yml Training: [####################] 100%\n",
      "sports.yml Training: [####################] 100%\n",
      "trivia.yml Training: [####################] 100%\n"
     ]
    }
   ],
   "source": [
    "import itchat\n",
    "import os, codecs\n",
    "import datetime\n",
    "from itchat.content import *\n",
    "from time import strftime, gmtime\n",
    "from chatterbot import ChatBot\n",
    "from chatterbot.trainers import ChatterBotCorpusTrainer\n",
    "BotName=\"肖恩\"\n",
    "chatbot = ChatBot(\"BotName\")\n",
    "chatbot.set_trainer(ChatterBotCorpusTrainer)\n",
    "# 使用中文语料库训练它\n",
    "chatbot.train(\"chatterbot.corpus.chinese\")\n",
    "# 使用英文语料库训练它\n",
    "chatbot.train(\"chatterbot.corpus.english\")"
   ]
  },
  {
   "cell_type": "code",
   "execution_count": 2,
   "metadata": {},
   "outputs": [
    {
     "name": "stderr",
     "output_type": "stream",
     "text": [
      "Getting uuid of QR code.\n",
      "Downloading QR code.\n",
      "Please scan the QR code to log in.\n",
      "Please press confirm on your phone.\n",
      "Loading the contact, this may take a little while.\n",
      "Login successfully as 肖恩\n"
     ]
    }
   ],
   "source": [
    "FILENAME = datetime.datetime.now().strftime('%Y-%m-%d-%H-%M') +\".txt\"\n",
    "PATH = \"./outputweixin/\"\n",
    "if os.path.exists(PATH)==False:\n",
    "    os.makedirs(PATH)\n",
    "fp = codecs.open(PATH + FILENAME, \"a\", \"utf-8\")\n",
    "\n",
    "itchat.auto_login(enableCmdQR = False, hotReload = False)\n",
    "\n"
   ]
  },
  {
   "cell_type": "code",
   "execution_count": 3,
   "metadata": {
    "collapsed": true
   },
   "outputs": [],
   "source": [
    "@itchat.msg_register([TEXT, MAP, CARD, NOTE, SHARING])\n",
    "def text_send_test(msg):\n",
    "    res = datetime.datetime.now().strftime('%Y-%m-%d %H:%M:%S')+itchat.search_friends(userName =msg['FromUserName'])['NickName'] + \"to\"+itchat.search_friends(userName =msg['ToUserName'])['NickName']+ \":\"+msg['Text']\n",
    "    fp.write(res + \"\\n\\n\")\n",
    "    print (res) \n",
    "    res2 = datetime.datetime.now().strftime('%Y-%m-%d %H:%M:%S')+itchat.search_friends(userName =msg['ToUserName'])['NickName'] + \"to\"+itchat.search_friends(userName =msg['FromUserName'])['NickName']+ \":\"#+chatbot.get_response(msg['Text'])\n",
    "    #fp.write(res2 + \"\\n\\n\")\n",
    "    #print (res2) \n",
    "    \n",
    "    if itchat.search_friends(userName =msg['FromUserName'])['NickName']!=BotName:\n",
    "        res3=chatbot.get_response(msg['Text'])\n",
    "        print('%s%s'%(res2,res3)) \n",
    "        msg.user.send('%s' % (res3))\n",
    "        fp.write('%s%s\\n\\n'%(res2,res3))  \n",
    "        #print('%s%s'%(res2,chatbot.get_response(msg['Text'])))     \n",
    "        #msg.user.send('%s' % (chatbot.get_response(msg['Text'])))\n",
    "        #fp.write('%s%s\\n\\n'%(res2,chatbot.get_response(msg['Text'])))  "
   ]
  },
  {
   "cell_type": "code",
   "execution_count": 4,
   "metadata": {
    "collapsed": true
   },
   "outputs": [],
   "source": [
    "#@itchat.msg_register([TEXT, MAP, CARD, NOTE, SHARING])\n",
    "#def text_reply(msg):\n",
    "#    msg.user.send('%s: %s' % (msg.type, chatbot.get_response(msg['Text'])))"
   ]
  },
  {
   "cell_type": "code",
   "execution_count": 5,
   "metadata": {
    "collapsed": true
   },
   "outputs": [],
   "source": [
    "@itchat.msg_register(TEXT, isGroupChat = True)\n",
    "def Gchat(msg) :\n",
    "    gres = \"Group#\"+ \"/\"+ msg['FromUserName']+ \"/\" +datetime.datetime.now().strftime('%Y-%m-%d %H:%M:%S')+msg['ActualNickName'] + \":\" +msg['Text']\n",
    "    fp.write(gres + \"\\n\\n\")\n",
    "    print (gres)\n",
    "    if msg.isAt:\n",
    "        gres2 = \"Group#\"+ \"/\"+ msg['FromUserName']+ \"/\" +datetime.datetime.now().strftime('%Y-%m-%d %H:%M:%S')+BotName+\":@\"+msg['ActualNickName']\n",
    "        gres3=chatbot.get_response(msg['Text'])\n",
    "        msg.user.send(u'@%s\\u2005%s' % (\n",
    "            msg.actualNickName,  gres3))\n",
    "        print('%s%s'%(gres2,gres3)) \n",
    "        fp.write('%s%s\\n\\n'%(gres2,gres3))     \n",
    "\n"
   ]
  },
  {
   "cell_type": "code",
   "execution_count": 8,
   "metadata": {
    "collapsed": true
   },
   "outputs": [],
   "source": [
    "@itchat.msg_register([PICTURE, RECORDING, ATTACHMENT, VIDEO])\n",
    "def download_files(msg):\n",
    "    msg.download(\"./images/\"+msg.fileName)\n",
    "    itchat.send('@%s@%s' % (\n",
    "        'img' if msg['Type'] == 'Picture' else 'fil', msg['FileName']),\n",
    "        msg['FromUserName'])\n",
    "    return '%s received' % msg['Type']"
   ]
  },
  {
   "cell_type": "code",
   "execution_count": 9,
   "metadata": {
    "collapsed": true
   },
   "outputs": [],
   "source": [
    "@itchat.msg_register(FRIENDS)\n",
    "def add_friend(msg):\n",
    "    msg.user.verify()\n",
    "    msg.user.send('Nice to meet you!')"
   ]
  },
  {
   "cell_type": "code",
   "execution_count": null,
   "metadata": {},
   "outputs": [
    {
     "name": "stderr",
     "output_type": "stream",
     "text": [
      "Start auto replying.\n"
     ]
    },
    {
     "name": "stdout",
     "output_type": "stream",
     "text": [
      "['@@bd237568107a1f716658ae9dbd083d347006edf44ff568fd5c8a04966be7a084', '@@d8a5046874947dd6123ecc765a5f8d1311da0fcca26bd8927c0e7295effbfc04']\n",
      "正在监测的群聊： 2 个\n",
      "平行人落地群 平行人\n"
     ]
    }
   ],
   "source": [
    "if __name__ == \"__main__\":\n",
    "    try:\n",
    "        chatrooms = itchat.get_chatrooms(update=True, contactOnly=True)\n",
    "        chatroom_ids = [c['UserName'] for c in chatrooms]\n",
    "        print(chatroom_ids)\n",
    "        print('正在监测的群聊：', len(chatrooms), '个')\n",
    "        print(' '.join([item['NickName'] for item in chatrooms]))\n",
    "        itchat.run()\n",
    "    except KeyboardInterrupt:\n",
    "        fp.close()\n",
    "        itchat.logout()"
   ]
  },
  {
   "cell_type": "code",
   "execution_count": null,
   "metadata": {
    "collapsed": true
   },
   "outputs": [],
   "source": []
  }
 ],
 "metadata": {
  "kernelspec": {
   "display_name": "Python 3",
   "language": "python",
   "name": "python3"
  },
  "language_info": {
   "codemirror_mode": {
    "name": "ipython",
    "version": 3
   },
   "file_extension": ".py",
   "mimetype": "text/x-python",
   "name": "python",
   "nbconvert_exporter": "python",
   "pygments_lexer": "ipython3",
   "version": "3.6.1"
  }
 },
 "nbformat": 4,
 "nbformat_minor": 2
}
